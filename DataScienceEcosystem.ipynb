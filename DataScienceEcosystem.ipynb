{
 "cells": [
  {
   "cell_type": "markdown",
   "id": "c37242cf-8d7e-4434-8bd9-f065b2445b02",
   "metadata": {},
   "source": [
    "# Data Science Tools and Ecosystem"
   ]
  },
  {
   "cell_type": "markdown",
   "id": "2423968a-b739-4a0b-89de-3afdcbf6235b",
   "metadata": {
    "tags": []
   },
   "source": [
    "# In this notebook, Data Science Tols and Ecosystem are summarized."
   ]
  },
  {
   "cell_type": "markdown",
   "id": "e2f04327-322d-495d-b813-94152842a2b3",
   "metadata": {},
   "source": [
    "# Objectives\n",
    "* List popular languages for Data Science\n",
    "* Introudce integrated develipment environment (IDE) tools like Jupyter Lab\n",
    "* Introduce distribued version cntrol system (DVCS) like GitHub"
   ]
  },
  {
   "cell_type": "markdown",
   "id": "d89ab9fd-4297-4245-9a8b-bbb3438446dd",
   "metadata": {
    "jp-MarkdownHeadingCollapsed": true,
    "tags": []
   },
   "source": [
    "# Some of the popular languages that Data Scientists use are:\n",
    "# 1. Python\n",
    "# 2. R\n",
    "# 3. SQL"
   ]
  },
  {
   "cell_type": "markdown",
   "id": "2b9a0f9b-6996-455e-a6df-d8c8f9a97a15",
   "metadata": {},
   "source": [
    "# Some of the commonly used libraries used by Data Scientistes include:\n",
    "# 1. Pandas\n",
    "# 2. NumPy\n",
    "# 3. Matplotlib"
   ]
  },
  {
   "cell_type": "markdown",
   "id": "c1137ef4-ce47-443d-a745-78c2ad0db768",
   "metadata": {},
   "source": [
    "|Data Science Tools|\n",
    "--------------------\n",
    "| Jupyter Notebook |\n",
    "|    R studio.     |\n",
    "|     GitHub.      |"
   ]
  },
  {
   "cell_type": "markdown",
   "id": "cb250b37-6ff6-4c45-b299-6255842d0ede",
   "metadata": {},
   "source": [
    "### Below are a few examples of evaluating arithmetic expressions in Python.\n",
    "# multiplication_value = 4*3\n",
    "# power_value = 4**3\n",
    "# modulo_value = 4%3"
   ]
  },
  {
   "cell_type": "code",
   "execution_count": 1,
   "id": "e9660282-597d-4d3f-84e6-37db91aae3d6",
   "metadata": {},
   "outputs": [
    {
     "data": {
      "text/plain": [
       "17"
      ]
     },
     "execution_count": 1,
     "metadata": {},
     "output_type": "execute_result"
    }
   ],
   "source": [
    "# This is a simple arithmetic expression to multiply then add integers\n",
    "(3*4)+5"
   ]
  },
  {
   "cell_type": "code",
   "execution_count": 9,
   "id": "110d491d-397d-4232-801f-54509edc2c07",
   "metadata": {},
   "outputs": [
    {
     "name": "stdin",
     "output_type": "stream",
     "text": [
      "Enter the minutes: 200\n"
     ]
    },
    {
     "name": "stdout",
     "output_type": "stream",
     "text": [
      "minutes: 200\n",
      "hours: 3.33\n"
     ]
    }
   ],
   "source": [
    "# Convert minutes to hours\n",
    "minutes = input('Enter the minutes:')\n",
    "hours = float(minutes)/60\n",
    "print('minutes:', minutes)\n",
    "print('hours:', round(hours,2))"
   ]
  },
  {
   "cell_type": "markdown",
   "id": "7e90b3f4-177c-4842-92f2-0eddbb2b903a",
   "metadata": {},
   "source": [
    "## Author: Tony Chen"
   ]
  },
  {
   "cell_type": "code",
   "execution_count": null,
   "id": "498de693-c2de-4e77-a67c-ceb168e60e7c",
   "metadata": {},
   "outputs": [],
   "source": []
  }
 ],
 "metadata": {
  "kernelspec": {
   "display_name": "Python 3 (ipykernel)",
   "language": "python",
   "name": "python3"
  },
  "language_info": {
   "codemirror_mode": {
    "name": "ipython",
    "version": 3
   },
   "file_extension": ".py",
   "mimetype": "text/x-python",
   "name": "python",
   "nbconvert_exporter": "python",
   "pygments_lexer": "ipython3",
   "version": "3.9.18"
  }
 },
 "nbformat": 4,
 "nbformat_minor": 5
}
